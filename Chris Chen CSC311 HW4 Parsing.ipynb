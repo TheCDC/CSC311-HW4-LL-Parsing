{
 "cells": [
  {
   "cell_type": "markdown",
   "metadata": {},
   "source": [
    "# LL(1) table parsing\n",
    "Christopher Chen\n",
    "CBU CSC311 HW 4\n",
    "Professor Im\n",
    "2017-10-09\n"
   ]
  },
  {
   "cell_type": "code",
   "execution_count": 59,
   "metadata": {
    "collapsed": false,
    "deletable": true,
    "editable": true
   },
   "outputs": [
    {
     "name": "stdout",
     "output_type": "stream",
     "text": [
      "\tid\t*\t+\t(\t)\t$\n",
      "A\tCB\t\t\tCB\t\n",
      "B\t\t\t+CB\t\te\te\n",
      "C\tED\t\t\tED\t\n",
      "D\t\t*ED\te\t\te\te\n",
      "E\tid\t\t\t(A)\n",
      "\n"
     ]
    }
   ],
   "source": [
    "table_string = \"\"\"\tid\t*\t+\t(\t)\t$\n",
    "A\tCB\t\t\tCB\t\n",
    "B\t\t\t+CB\t\te\te\n",
    "C\tED\t\t\tED\t\n",
    "D\t\t*ED\te\t\te\te\n",
    "E\tid\t\t\t(A)\n",
    "\"\"\"\n",
    "print(table_string)"
   ]
  },
  {
   "cell_type": "code",
   "execution_count": 79,
   "metadata": {
    "collapsed": false,
    "deletable": true,
    "editable": true
   },
   "outputs": [],
   "source": [
    "class Epsilon():\n",
    "    \"\"\"Class to represent Epsilon tokens\"\"\"\n",
    "    def __str__(self):\n",
    "        return \"Epsilon()\"\n",
    "    def __repr__(self):\n",
    "        return str(self)"
   ]
  },
  {
   "cell_type": "markdown",
   "metadata": {},
   "source": [
    "# Input sanitization and custom data structure"
   ]
  },
  {
   "cell_type": "code",
   "execution_count": 80,
   "metadata": {
    "collapsed": false,
    "deletable": true,
    "editable": true
   },
   "outputs": [],
   "source": [
    "# string manipulation\n",
    "lines = [l.strip().split('\\t') for l in table_string.strip().split('\\n')]\n",
    "header = lines.pop(0)\n",
    "symbols = [l.pop(0) for l in lines]\n",
    "\n",
    "replacement = {\n",
    "    '':None,\n",
    "    'e': Epsilon(),\n",
    "              }\n",
    "for index, line in enumerate(lines):\n",
    "    padding = [None]*(len(header)-len(line))\n",
    "    lines[index] = [replacement.get(i,i) for i in line] + padding"
   ]
  },
  {
   "cell_type": "code",
   "execution_count": 81,
   "metadata": {
    "collapsed": false,
    "deletable": true,
    "editable": true
   },
   "outputs": [
    {
     "data": {
      "text/plain": [
       "[['CB', None, None, 'CB', None, None],\n",
       " [None, None, '+CB', None, Epsilon(), Epsilon()],\n",
       " ['ED', None, None, 'ED', None, None],\n",
       " [None, '*ED', Epsilon(), None, Epsilon(), Epsilon()],\n",
       " ['id', None, None, '(A)', None, None]]"
      ]
     },
     "execution_count": 81,
     "metadata": {},
     "output_type": "execute_result"
    }
   ],
   "source": [
    "# now we have a 2d array representation of the table\n",
    "lines"
   ]
  },
  {
   "cell_type": "code",
   "execution_count": 84,
   "metadata": {
    "collapsed": false,
    "deletable": true,
    "editable": true
   },
   "outputs": [
    {
     "name": "stdout",
     "output_type": "stream",
     "text": [
      "{'A': {'$': None, '(': 'CB', ')': None, '*': None, '+': None, 'id': 'CB'},\n",
      " 'B': {'$': Epsilon(),\n",
      "       '(': None,\n",
      "       ')': Epsilon(),\n",
      "       '*': None,\n",
      "       '+': '+CB',\n",
      "       'id': None},\n",
      " 'C': {'$': None, '(': 'ED', ')': None, '*': None, '+': None, 'id': 'ED'},\n",
      " 'D': {'$': Epsilon(),\n",
      "       '(': None,\n",
      "       ')': Epsilon(),\n",
      "       '*': '*ED',\n",
      "       '+': Epsilon(),\n",
      "       'id': None},\n",
      " 'E': {'$': None, '(': '(A)', ')': None, '*': None, '+': None, 'id': 'id'}}\n"
     ]
    }
   ],
   "source": [
    "# create a nested mapping representation of table\n",
    "from pprint import pprint\n",
    "table = {}\n",
    "for i in zip(symbols, lines):\n",
    "    table[i[0]] = dict(zip(header,i[1]))\n",
    "pprint(table)"
   ]
  },
  {
   "cell_type": "markdown",
   "metadata": {},
   "source": [
    "# Time to parse"
   ]
  },
  {
   "cell_type": "code",
   "execution_count": 83,
   "metadata": {
    "collapsed": false,
    "deletable": true,
    "editable": true
   },
   "outputs": [
    {
     "name": "stdout",
     "output_type": "stream",
     "text": [
      "A $ | ( x + y ) + a * b + c $\n",
      "A ( => Eps()\n",
      "C B $ | ( x + y ) + a * b + c $\n",
      "C ( => CB\n",
      "E D B $ | ( x + y ) + a * b + c $\n",
      "E ( => ED\n",
      "( A ) D B $ | ( x + y ) + a * b + c $\n",
      "( ( => (A)\n",
      "A ) D B $ | x + y ) + a * b + c $\n",
      "A x => (A)\n",
      "C B ) D B $ | x + y ) + a * b + c $\n",
      "C x => CB\n",
      "E D B ) D B $ | x + y ) + a * b + c $\n",
      "E x => ED\n",
      "id D B ) D B $ | + y ) + a * b + c $\n",
      "id + => id\n",
      "D B ) D B $ | + y ) + a * b + c $\n",
      "D + => id\n",
      "B ) D B $ | + y ) + a * b + c $\n",
      "B + => Epsilon()\n",
      "+ C B ) D B $ | + y ) + a * b + c $\n",
      "+ + => +CB\n",
      "C B ) D B $ | y ) + a * b + c $\n",
      "C y => +CB\n",
      "E D B ) D B $ | y ) + a * b + c $\n",
      "E y => ED\n",
      "id D B ) D B $ | ) + a * b + c $\n",
      "id ) => id\n",
      "D B ) D B $ | ) + a * b + c $\n",
      "D ) => id\n",
      "B ) D B $ | ) + a * b + c $\n",
      "B ) => Epsilon()\n",
      ") D B $ | ) + a * b + c $\n",
      ") ) => Epsilon()\n",
      "D B $ | + a * b + c $\n",
      "D + => Epsilon()\n",
      "B $ | + a * b + c $\n",
      "B + => Epsilon()\n",
      "+ C B $ | + a * b + c $\n",
      "+ + => +CB\n",
      "C B $ | a * b + c $\n",
      "C a => +CB\n",
      "E D B $ | a * b + c $\n",
      "E a => ED\n",
      "id D B $ | * b + c $\n",
      "id * => id\n",
      "D B $ | * b + c $\n",
      "D * => id\n",
      "* E D B $ | * b + c $\n",
      "* * => *ED\n",
      "E D B $ | b + c $\n",
      "E b => *ED\n",
      "id D B $ | + c $\n",
      "id + => id\n",
      "D B $ | + c $\n",
      "D + => id\n",
      "B $ | + c $\n",
      "B + => Epsilon()\n",
      "+ C B $ | + c $\n",
      "+ + => +CB\n",
      "C B $ | c $\n",
      "C c => +CB\n",
      "E D B $ | c $\n",
      "E c => ED\n",
      "id D B $ | $\n",
      "id $ => id\n",
      "D B $ | $\n",
      "D $ => id\n",
      "B $ | $\n",
      "B $ => Epsilon()\n",
      "$ | $\n",
      "success\n"
     ]
    }
   ],
   "source": [
    "to_parse = \"(x + y) + a * b + c$\"\n",
    "input_stack = [i for i in reversed(to_parse) if i != ' ']\n",
    "parse_stack = ['$',symbols[0]]\n",
    "\n",
    "\n",
    "def debug():\n",
    "    # shenanigans for more readable output.\n",
    "    print(*map(lambda t: ' '.join(reversed(t)),[parse_stack, input_stack]),sep=' | ')\n",
    "debug()\n",
    "# impose hard limit to iterations in case of mistakes\n",
    "for i in range(100):\n",
    "    ps = parse_stack.pop()\n",
    "#     check for exit\n",
    "    if ps == '$':\n",
    "        print(\"success\")\n",
    "        break\n",
    "    else:\n",
    "\n",
    "        \n",
    "#     look at next token\n",
    "        lookahead = input_stack[-1]\n",
    "        print(ps,lookahead,'=>',action)\n",
    "#     pop terminals\n",
    "        if ps==lookahead or (ps=='id' and lookahead.isalpha()):\n",
    "            input_stack.pop()\n",
    "#     popping terminals like zits\n",
    "        elif ps == lookahead:\n",
    "            input_stack.pop()\n",
    "#       case of a production rule on the parse stack\n",
    "        elif ps in symbols:\n",
    "#       convert non-epsilon literal to generic id\n",
    "            if (lookahead not in header) and lookahead != 'e':\n",
    "                lookahead = 'id'\n",
    "#           get next parse stack item from LL table\n",
    "            action = table[ps][lookahead]\n",
    "            \n",
    "#           detect invalid input by attempts to access invalid parts of table.\n",
    "            if action is None:\n",
    "                print(\"fail\")\n",
    "                break\n",
    "#           more popping literals\n",
    "            elif action =='id' and lookahead == 'id':\n",
    "                input_stack.pop()\n",
    "            if not isinstance(action,Epsilon):\n",
    "                if action == 'id':\n",
    "                    parse_stack.append(action)\n",
    "                else:\n",
    "                    parse_stack.extend(reversed(action))\n",
    "    debug()\n",
    "\n"
   ]
  },
  {
   "cell_type": "code",
   "execution_count": null,
   "metadata": {
    "collapsed": true
   },
   "outputs": [],
   "source": []
  }
 ],
 "metadata": {
  "kernelspec": {
   "display_name": "Python 3",
   "language": "python",
   "name": "python3"
  },
  "language_info": {
   "codemirror_mode": {
    "name": "ipython",
    "version": 3
   },
   "file_extension": ".py",
   "mimetype": "text/x-python",
   "name": "python",
   "nbconvert_exporter": "python",
   "pygments_lexer": "ipython3",
   "version": "3.5.3"
  }
 },
 "nbformat": 4,
 "nbformat_minor": 2
}
